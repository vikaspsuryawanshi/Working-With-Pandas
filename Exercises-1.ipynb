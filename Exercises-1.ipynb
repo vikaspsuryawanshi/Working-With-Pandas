{
 "cells": [
  {
   "cell_type": "code",
   "execution_count": 160,
   "metadata": {},
   "outputs": [],
   "source": [
    "%matplotlib inline\n",
    "import pandas as pd\n",
    "import seaborn as sns \n",
    "import matplotlib.pyplot as plt"
   ]
  },
  {
   "cell_type": "code",
   "execution_count": 162,
   "metadata": {},
   "outputs": [
    {
     "data": {
      "text/html": [
       "<div>\n",
       "<style scoped>\n",
       "    .dataframe tbody tr th:only-of-type {\n",
       "        vertical-align: middle;\n",
       "    }\n",
       "\n",
       "    .dataframe tbody tr th {\n",
       "        vertical-align: top;\n",
       "    }\n",
       "\n",
       "    .dataframe thead th {\n",
       "        text-align: right;\n",
       "    }\n",
       "</style>\n",
       "<table border=\"1\" class=\"dataframe\">\n",
       "  <thead>\n",
       "    <tr style=\"text-align: right;\">\n",
       "      <th></th>\n",
       "      <th>title</th>\n",
       "      <th>year</th>\n",
       "      <th>name</th>\n",
       "      <th>type</th>\n",
       "      <th>character</th>\n",
       "      <th>n</th>\n",
       "    </tr>\n",
       "  </thead>\n",
       "  <tbody>\n",
       "    <tr>\n",
       "      <th>0</th>\n",
       "      <td>Closet Monster</td>\n",
       "      <td>2015</td>\n",
       "      <td>Buffy #1</td>\n",
       "      <td>actor</td>\n",
       "      <td>Buffy 4</td>\n",
       "      <td>NaN</td>\n",
       "    </tr>\n",
       "    <tr>\n",
       "      <th>1</th>\n",
       "      <td>Suuri illusioni</td>\n",
       "      <td>1985</td>\n",
       "      <td>Homo $</td>\n",
       "      <td>actor</td>\n",
       "      <td>Guests</td>\n",
       "      <td>22.0</td>\n",
       "    </tr>\n",
       "    <tr>\n",
       "      <th>2</th>\n",
       "      <td>Battle of the Sexes</td>\n",
       "      <td>2017</td>\n",
       "      <td>$hutter</td>\n",
       "      <td>actor</td>\n",
       "      <td>Bobby Riggs Fan</td>\n",
       "      <td>10.0</td>\n",
       "    </tr>\n",
       "    <tr>\n",
       "      <th>3</th>\n",
       "      <td>Secret in Their Eyes</td>\n",
       "      <td>2015</td>\n",
       "      <td>$hutter</td>\n",
       "      <td>actor</td>\n",
       "      <td>2002 Dodger Fan</td>\n",
       "      <td>NaN</td>\n",
       "    </tr>\n",
       "    <tr>\n",
       "      <th>4</th>\n",
       "      <td>Steve Jobs</td>\n",
       "      <td>2015</td>\n",
       "      <td>$hutter</td>\n",
       "      <td>actor</td>\n",
       "      <td>1988 Opera House Patron</td>\n",
       "      <td>NaN</td>\n",
       "    </tr>\n",
       "  </tbody>\n",
       "</table>\n",
       "</div>"
      ],
      "text/plain": [
       "                  title  year      name   type                character     n\n",
       "0        Closet Monster  2015  Buffy #1  actor                  Buffy 4   NaN\n",
       "1       Suuri illusioni  1985    Homo $  actor                   Guests  22.0\n",
       "2   Battle of the Sexes  2017   $hutter  actor          Bobby Riggs Fan  10.0\n",
       "3  Secret in Their Eyes  2015   $hutter  actor          2002 Dodger Fan   NaN\n",
       "4            Steve Jobs  2015   $hutter  actor  1988 Opera House Patron   NaN"
      ]
     },
     "execution_count": 162,
     "metadata": {},
     "output_type": "execute_result"
    }
   ],
   "source": [
    "titles = pd.read_csv('C:/Users/Dell/OneDrive/Desktop/Vicky/Top Mentor Class Lectures/DATA SCIENCE/cast.csv', index_col=None)\n",
    "titles.head()"
   ]
  },
  {
   "cell_type": "code",
   "execution_count": 166,
   "metadata": {},
   "outputs": [
    {
     "data": {
      "text/html": [
       "<div>\n",
       "<style scoped>\n",
       "    .dataframe tbody tr th:only-of-type {\n",
       "        vertical-align: middle;\n",
       "    }\n",
       "\n",
       "    .dataframe tbody tr th {\n",
       "        vertical-align: top;\n",
       "    }\n",
       "\n",
       "    .dataframe thead th {\n",
       "        text-align: right;\n",
       "    }\n",
       "</style>\n",
       "<table border=\"1\" class=\"dataframe\">\n",
       "  <thead>\n",
       "    <tr style=\"text-align: right;\">\n",
       "      <th></th>\n",
       "      <th>title</th>\n",
       "      <th>year</th>\n",
       "      <th>name</th>\n",
       "      <th>type</th>\n",
       "      <th>character</th>\n",
       "      <th>n</th>\n",
       "    </tr>\n",
       "  </thead>\n",
       "  <tbody>\n",
       "    <tr>\n",
       "      <th>0</th>\n",
       "      <td>Closet Monster</td>\n",
       "      <td>2015</td>\n",
       "      <td>Buffy #1</td>\n",
       "      <td>actor</td>\n",
       "      <td>Buffy 4</td>\n",
       "      <td>NaN</td>\n",
       "    </tr>\n",
       "    <tr>\n",
       "      <th>1</th>\n",
       "      <td>Suuri illusioni</td>\n",
       "      <td>1985</td>\n",
       "      <td>Homo $</td>\n",
       "      <td>actor</td>\n",
       "      <td>Guests</td>\n",
       "      <td>22.0</td>\n",
       "    </tr>\n",
       "    <tr>\n",
       "      <th>2</th>\n",
       "      <td>Battle of the Sexes</td>\n",
       "      <td>2017</td>\n",
       "      <td>$hutter</td>\n",
       "      <td>actor</td>\n",
       "      <td>Bobby Riggs Fan</td>\n",
       "      <td>10.0</td>\n",
       "    </tr>\n",
       "    <tr>\n",
       "      <th>3</th>\n",
       "      <td>Secret in Their Eyes</td>\n",
       "      <td>2015</td>\n",
       "      <td>$hutter</td>\n",
       "      <td>actor</td>\n",
       "      <td>2002 Dodger Fan</td>\n",
       "      <td>NaN</td>\n",
       "    </tr>\n",
       "    <tr>\n",
       "      <th>4</th>\n",
       "      <td>Steve Jobs</td>\n",
       "      <td>2015</td>\n",
       "      <td>$hutter</td>\n",
       "      <td>actor</td>\n",
       "      <td>1988 Opera House Patron</td>\n",
       "      <td>NaN</td>\n",
       "    </tr>\n",
       "  </tbody>\n",
       "</table>\n",
       "</div>"
      ],
      "text/plain": [
       "                  title  year      name   type                character     n\n",
       "0        Closet Monster  2015  Buffy #1  actor                  Buffy 4   NaN\n",
       "1       Suuri illusioni  1985    Homo $  actor                   Guests  22.0\n",
       "2   Battle of the Sexes  2017   $hutter  actor          Bobby Riggs Fan  10.0\n",
       "3  Secret in Their Eyes  2015   $hutter  actor          2002 Dodger Fan   NaN\n",
       "4            Steve Jobs  2015   $hutter  actor  1988 Opera House Patron   NaN"
      ]
     },
     "execution_count": 166,
     "metadata": {},
     "output_type": "execute_result"
    }
   ],
   "source": [
    "cast = pd.read_csv('C:/Users/Dell/OneDrive/Desktop/Vicky/Top Mentor Class Lectures/DATA SCIENCE/cast.csv', index_col=None)\n",
    "cast.head()"
   ]
  },
  {
   "cell_type": "markdown",
   "metadata": {
    "collapsed": true
   },
   "source": [
    "### How many movies are listed in the titles dataframe?"
   ]
  },
  {
   "cell_type": "markdown",
   "metadata": {
    "collapsed": true
   },
   "source": [
    "The Movies Are Listed in 1048575"
   ]
  },
  {
   "cell_type": "code",
   "execution_count": 142,
   "metadata": {},
   "outputs": [
    {
     "data": {
      "text/plain": [
       "1048575"
      ]
     },
     "execution_count": 142,
     "metadata": {},
     "output_type": "execute_result"
    }
   ],
   "source": [
    "len(data)"
   ]
  },
  {
   "cell_type": "markdown",
   "metadata": {},
   "source": [
    "### What are the earliest two films listed in the titles dataframe?"
   ]
  },
  {
   "cell_type": "code",
   "execution_count": 167,
   "metadata": {},
   "outputs": [
    {
     "data": {
      "text/html": [
       "<div>\n",
       "<style scoped>\n",
       "    .dataframe tbody tr th:only-of-type {\n",
       "        vertical-align: middle;\n",
       "    }\n",
       "\n",
       "    .dataframe tbody tr th {\n",
       "        vertical-align: top;\n",
       "    }\n",
       "\n",
       "    .dataframe thead th {\n",
       "        text-align: right;\n",
       "    }\n",
       "</style>\n",
       "<table border=\"1\" class=\"dataframe\">\n",
       "  <thead>\n",
       "    <tr style=\"text-align: right;\">\n",
       "      <th></th>\n",
       "      <th>title</th>\n",
       "      <th>year</th>\n",
       "      <th>name</th>\n",
       "      <th>type</th>\n",
       "      <th>character</th>\n",
       "      <th>n</th>\n",
       "    </tr>\n",
       "  </thead>\n",
       "  <tbody>\n",
       "    <tr>\n",
       "      <th>464860</th>\n",
       "      <td>Miss Jerry</td>\n",
       "      <td>1894</td>\n",
       "      <td>William Courtenay</td>\n",
       "      <td>actor</td>\n",
       "      <td>Mr. Hamilton</td>\n",
       "      <td>NaN</td>\n",
       "    </tr>\n",
       "    <tr>\n",
       "      <th>555929</th>\n",
       "      <td>Miss Jerry</td>\n",
       "      <td>1894</td>\n",
       "      <td>Chauncey Depew</td>\n",
       "      <td>actor</td>\n",
       "      <td>Himself - the Director of the New York Central...</td>\n",
       "      <td>NaN</td>\n",
       "    </tr>\n",
       "  </tbody>\n",
       "</table>\n",
       "</div>"
      ],
      "text/plain": [
       "             title  year               name   type  \\\n",
       "464860  Miss Jerry  1894  William Courtenay  actor   \n",
       "555929  Miss Jerry  1894     Chauncey Depew  actor   \n",
       "\n",
       "                                                character   n  \n",
       "464860                                       Mr. Hamilton NaN  \n",
       "555929  Himself - the Director of the New York Central... NaN  "
      ]
     },
     "execution_count": 167,
     "metadata": {},
     "output_type": "execute_result"
    }
   ],
   "source": [
    "titles.sort_values(by='year').head(2)"
   ]
  },
  {
   "cell_type": "markdown",
   "metadata": {
    "collapsed": true
   },
   "source": [
    "### How many movies have the title \"Hamlet\"?"
   ]
  },
  {
   "cell_type": "code",
   "execution_count": 168,
   "metadata": {},
   "outputs": [
    {
     "data": {
      "text/plain": [
       "113"
      ]
     },
     "execution_count": 168,
     "metadata": {},
     "output_type": "execute_result"
    }
   ],
   "source": [
    "len(titles[titles.title == \"Hamlet\"])"
   ]
  },
  {
   "cell_type": "markdown",
   "metadata": {
    "collapsed": true
   },
   "source": [
    "### How many movies are titled \"North by Northwest\"?"
   ]
  },
  {
   "cell_type": "code",
   "execution_count": 169,
   "metadata": {},
   "outputs": [
    {
     "data": {
      "text/plain": [
       "41"
      ]
     },
     "execution_count": 169,
     "metadata": {},
     "output_type": "execute_result"
    }
   ],
   "source": [
    "len(titles[titles.title == \"North by Northwest\"])"
   ]
  },
  {
   "cell_type": "markdown",
   "metadata": {
    "collapsed": true
   },
   "source": [
    "### When was the first movie titled \"Hamlet\" made?"
   ]
  },
  {
   "cell_type": "code",
   "execution_count": 171,
   "metadata": {},
   "outputs": [
    {
     "data": {
      "text/plain": [
       "113"
      ]
     },
     "execution_count": 171,
     "metadata": {},
     "output_type": "execute_result"
    }
   ],
   "source": [
    "len(titles[titles.title == \"Hamlet\"])"
   ]
  },
  {
   "cell_type": "markdown",
   "metadata": {
    "collapsed": true
   },
   "source": [
    "### List all of the \"Treasure Island\" movies from earliest to most recent."
   ]
  },
  {
   "cell_type": "code",
   "execution_count": 172,
   "metadata": {},
   "outputs": [
    {
     "data": {
      "text/html": [
       "<div>\n",
       "<style scoped>\n",
       "    .dataframe tbody tr th:only-of-type {\n",
       "        vertical-align: middle;\n",
       "    }\n",
       "\n",
       "    .dataframe tbody tr th {\n",
       "        vertical-align: top;\n",
       "    }\n",
       "\n",
       "    .dataframe thead th {\n",
       "        text-align: right;\n",
       "    }\n",
       "</style>\n",
       "<table border=\"1\" class=\"dataframe\">\n",
       "  <thead>\n",
       "    <tr style=\"text-align: right;\">\n",
       "      <th></th>\n",
       "      <th>title</th>\n",
       "      <th>year</th>\n",
       "      <th>name</th>\n",
       "      <th>type</th>\n",
       "      <th>character</th>\n",
       "      <th>n</th>\n",
       "    </tr>\n",
       "  </thead>\n",
       "  <tbody>\n",
       "    <tr>\n",
       "      <th>909157</th>\n",
       "      <td>Treasure Island</td>\n",
       "      <td>1918</td>\n",
       "      <td>Edwin Harley</td>\n",
       "      <td>actor</td>\n",
       "      <td>Prologue Player</td>\n",
       "      <td>NaN</td>\n",
       "    </tr>\n",
       "    <tr>\n",
       "      <th>840745</th>\n",
       "      <td>Treasure Island</td>\n",
       "      <td>1918</td>\n",
       "      <td>Joe Grant</td>\n",
       "      <td>actor</td>\n",
       "      <td>Undetermined child role</td>\n",
       "      <td>NaN</td>\n",
       "    </tr>\n",
       "    <tr>\n",
       "      <th>830114</th>\n",
       "      <td>Treasure Island</td>\n",
       "      <td>1918</td>\n",
       "      <td>Charles Gorman</td>\n",
       "      <td>actor</td>\n",
       "      <td>Prologue Player</td>\n",
       "      <td>NaN</td>\n",
       "    </tr>\n",
       "    <tr>\n",
       "      <th>339256</th>\n",
       "      <td>Treasure Island</td>\n",
       "      <td>1918</td>\n",
       "      <td>Francis Carpenter</td>\n",
       "      <td>actor</td>\n",
       "      <td>Jim Hawkins</td>\n",
       "      <td>1.0</td>\n",
       "    </tr>\n",
       "    <tr>\n",
       "      <th>374597</th>\n",
       "      <td>Treasure Island</td>\n",
       "      <td>1920</td>\n",
       "      <td>Lon Chaney</td>\n",
       "      <td>actor</td>\n",
       "      <td>Blind Pew</td>\n",
       "      <td>5.0</td>\n",
       "    </tr>\n",
       "    <tr>\n",
       "      <th>...</th>\n",
       "      <td>...</td>\n",
       "      <td>...</td>\n",
       "      <td>...</td>\n",
       "      <td>...</td>\n",
       "      <td>...</td>\n",
       "      <td>...</td>\n",
       "    </tr>\n",
       "    <tr>\n",
       "      <th>880460</th>\n",
       "      <td>Treasure Island</td>\n",
       "      <td>1999</td>\n",
       "      <td>Rio Hackford</td>\n",
       "      <td>actor</td>\n",
       "      <td>Hans</td>\n",
       "      <td>23.0</td>\n",
       "    </tr>\n",
       "    <tr>\n",
       "      <th>872384</th>\n",
       "      <td>Treasure Island</td>\n",
       "      <td>1999</td>\n",
       "      <td>Paul Gutrecht</td>\n",
       "      <td>actor</td>\n",
       "      <td>Some Guy</td>\n",
       "      <td>20.0</td>\n",
       "    </tr>\n",
       "    <tr>\n",
       "      <th>114904</th>\n",
       "      <td>Treasure Island</td>\n",
       "      <td>1999</td>\n",
       "      <td>Lance (II) Baker</td>\n",
       "      <td>actor</td>\n",
       "      <td>Frank</td>\n",
       "      <td>1.0</td>\n",
       "    </tr>\n",
       "    <tr>\n",
       "      <th>934507</th>\n",
       "      <td>Treasure Island</td>\n",
       "      <td>1999</td>\n",
       "      <td>Pat Healy</td>\n",
       "      <td>actor</td>\n",
       "      <td>Clark</td>\n",
       "      <td>4.0</td>\n",
       "    </tr>\n",
       "    <tr>\n",
       "      <th>589900</th>\n",
       "      <td>Treasure Island</td>\n",
       "      <td>1999</td>\n",
       "      <td>Jamie Donovan</td>\n",
       "      <td>actor</td>\n",
       "      <td>John</td>\n",
       "      <td>21.0</td>\n",
       "    </tr>\n",
       "  </tbody>\n",
       "</table>\n",
       "<p>81 rows × 6 columns</p>\n",
       "</div>"
      ],
      "text/plain": [
       "                  title  year               name   type  \\\n",
       "909157  Treasure Island  1918       Edwin Harley  actor   \n",
       "840745  Treasure Island  1918          Joe Grant  actor   \n",
       "830114  Treasure Island  1918     Charles Gorman  actor   \n",
       "339256  Treasure Island  1918  Francis Carpenter  actor   \n",
       "374597  Treasure Island  1920         Lon Chaney  actor   \n",
       "...                 ...   ...                ...    ...   \n",
       "880460  Treasure Island  1999       Rio Hackford  actor   \n",
       "872384  Treasure Island  1999      Paul Gutrecht  actor   \n",
       "114904  Treasure Island  1999   Lance (II) Baker  actor   \n",
       "934507  Treasure Island  1999          Pat Healy  actor   \n",
       "589900  Treasure Island  1999      Jamie Donovan  actor   \n",
       "\n",
       "                      character     n  \n",
       "909157          Prologue Player   NaN  \n",
       "840745  Undetermined child role   NaN  \n",
       "830114          Prologue Player   NaN  \n",
       "339256              Jim Hawkins   1.0  \n",
       "374597               Blind Pew    5.0  \n",
       "...                         ...   ...  \n",
       "880460                     Hans  23.0  \n",
       "872384                 Some Guy  20.0  \n",
       "114904                    Frank   1.0  \n",
       "934507                    Clark   4.0  \n",
       "589900                     John  21.0  \n",
       "\n",
       "[81 rows x 6 columns]"
      ]
     },
     "execution_count": 172,
     "metadata": {},
     "output_type": "execute_result"
    }
   ],
   "source": [
    "titles[titles.title == \"Treasure Island\"].sort_values(by='year')"
   ]
  },
  {
   "cell_type": "markdown",
   "metadata": {
    "collapsed": true
   },
   "source": [
    "### How many movies were made in the year 1950?"
   ]
  },
  {
   "cell_type": "code",
   "execution_count": 173,
   "metadata": {},
   "outputs": [
    {
     "data": {
      "text/plain": [
       "7389"
      ]
     },
     "execution_count": 173,
     "metadata": {},
     "output_type": "execute_result"
    }
   ],
   "source": [
    "len(titles[titles.year == 1950])"
   ]
  },
  {
   "cell_type": "markdown",
   "metadata": {
    "collapsed": true
   },
   "source": [
    "### How many movies were made in the year 1960?"
   ]
  },
  {
   "cell_type": "code",
   "execution_count": 174,
   "metadata": {},
   "outputs": [
    {
     "data": {
      "text/plain": [
       "5608"
      ]
     },
     "execution_count": 174,
     "metadata": {},
     "output_type": "execute_result"
    }
   ],
   "source": [
    "len(titles[titles.year == 1960])"
   ]
  },
  {
   "cell_type": "markdown",
   "metadata": {
    "collapsed": true
   },
   "source": [
    "### How many movies were made from 1950 through 1959?"
   ]
  },
  {
   "cell_type": "code",
   "execution_count": 175,
   "metadata": {},
   "outputs": [
    {
     "data": {
      "text/plain": [
       "67706"
      ]
     },
     "execution_count": 175,
     "metadata": {},
     "output_type": "execute_result"
    }
   ],
   "source": [
    "len(titles[(titles.year >= 1950) & (titles.year <= 1959)])"
   ]
  },
  {
   "cell_type": "markdown",
   "metadata": {
    "collapsed": true
   },
   "source": [
    "### In what years has a movie titled \"Batman\" been released?"
   ]
  },
  {
   "cell_type": "code",
   "execution_count": 176,
   "metadata": {},
   "outputs": [
    {
     "data": {
      "text/html": [
       "<div>\n",
       "<style scoped>\n",
       "    .dataframe tbody tr th:only-of-type {\n",
       "        vertical-align: middle;\n",
       "    }\n",
       "\n",
       "    .dataframe tbody tr th {\n",
       "        vertical-align: top;\n",
       "    }\n",
       "\n",
       "    .dataframe thead th {\n",
       "        text-align: right;\n",
       "    }\n",
       "</style>\n",
       "<table border=\"1\" class=\"dataframe\">\n",
       "  <thead>\n",
       "    <tr style=\"text-align: right;\">\n",
       "      <th></th>\n",
       "      <th>title</th>\n",
       "      <th>year</th>\n",
       "      <th>name</th>\n",
       "      <th>type</th>\n",
       "      <th>character</th>\n",
       "      <th>n</th>\n",
       "    </tr>\n",
       "  </thead>\n",
       "  <tbody>\n",
       "    <tr>\n",
       "      <th>95672</th>\n",
       "      <td>Batman</td>\n",
       "      <td>1943</td>\n",
       "      <td>Frank Austin</td>\n",
       "      <td>actor</td>\n",
       "      <td>Hotel Clerk</td>\n",
       "      <td>NaN</td>\n",
       "    </tr>\n",
       "    <tr>\n",
       "      <th>96186</th>\n",
       "      <td>Batman</td>\n",
       "      <td>1943</td>\n",
       "      <td>William Austin</td>\n",
       "      <td>actor</td>\n",
       "      <td>Alfred Pennyworth</td>\n",
       "      <td>NaN</td>\n",
       "    </tr>\n",
       "    <tr>\n",
       "      <th>114034</th>\n",
       "      <td>Batman</td>\n",
       "      <td>1989</td>\n",
       "      <td>Del Baker</td>\n",
       "      <td>actor</td>\n",
       "      <td>Napier Hood</td>\n",
       "      <td>31.0</td>\n",
       "    </tr>\n",
       "    <tr>\n",
       "      <th>119476</th>\n",
       "      <td>Batman</td>\n",
       "      <td>1989</td>\n",
       "      <td>Michael Balfour</td>\n",
       "      <td>actor</td>\n",
       "      <td>Scientist</td>\n",
       "      <td>44.0</td>\n",
       "    </tr>\n",
       "    <tr>\n",
       "      <th>149767</th>\n",
       "      <td>Batman</td>\n",
       "      <td>1989</td>\n",
       "      <td>David Baxt</td>\n",
       "      <td>actor</td>\n",
       "      <td>Dr. Thomas Wayne</td>\n",
       "      <td>48.0</td>\n",
       "    </tr>\n",
       "    <tr>\n",
       "      <th>199262</th>\n",
       "      <td>Batman</td>\n",
       "      <td>1989</td>\n",
       "      <td>Paul Birchard</td>\n",
       "      <td>actor</td>\n",
       "      <td>Another Reporter</td>\n",
       "      <td>55.0</td>\n",
       "    </tr>\n",
       "    <tr>\n",
       "      <th>211518</th>\n",
       "      <td>Batman</td>\n",
       "      <td>1989</td>\n",
       "      <td>Hugo Blick</td>\n",
       "      <td>actor</td>\n",
       "      <td>Young Jack Napier</td>\n",
       "      <td>41.0</td>\n",
       "    </tr>\n",
       "    <tr>\n",
       "      <th>258721</th>\n",
       "      <td>Batman</td>\n",
       "      <td>1943</td>\n",
       "      <td>Lynton Brent</td>\n",
       "      <td>actor</td>\n",
       "      <td>Intended Lockwood Pilot</td>\n",
       "      <td>NaN</td>\n",
       "    </tr>\n",
       "    <tr>\n",
       "      <th>287420</th>\n",
       "      <td>Batman</td>\n",
       "      <td>1943</td>\n",
       "      <td>Roy Bucko</td>\n",
       "      <td>actor</td>\n",
       "      <td>Barfly</td>\n",
       "      <td>NaN</td>\n",
       "    </tr>\n",
       "    <tr>\n",
       "      <th>379733</th>\n",
       "      <td>Batman</td>\n",
       "      <td>1989</td>\n",
       "      <td>Carl Chase</td>\n",
       "      <td>actor</td>\n",
       "      <td>Goon</td>\n",
       "      <td>14.0</td>\n",
       "    </tr>\n",
       "    <tr>\n",
       "      <th>387956</th>\n",
       "      <td>Batman</td>\n",
       "      <td>1943</td>\n",
       "      <td>George Chesebro</td>\n",
       "      <td>actor</td>\n",
       "      <td>Brennan [Ch. 1-3</td>\n",
       "      <td>NaN</td>\n",
       "    </tr>\n",
       "    <tr>\n",
       "      <th>449581</th>\n",
       "      <td>Batman</td>\n",
       "      <td>1989</td>\n",
       "      <td>George Lane Cooper</td>\n",
       "      <td>actor</td>\n",
       "      <td>Goon</td>\n",
       "      <td>16.0</td>\n",
       "    </tr>\n",
       "    <tr>\n",
       "      <th>468892</th>\n",
       "      <td>Batman</td>\n",
       "      <td>1989</td>\n",
       "      <td>Harold Coyne</td>\n",
       "      <td>actor</td>\n",
       "      <td>Gotham City Pedestrian</td>\n",
       "      <td>NaN</td>\n",
       "    </tr>\n",
       "    <tr>\n",
       "      <th>470065</th>\n",
       "      <td>Batman</td>\n",
       "      <td>1989</td>\n",
       "      <td>Edwin Craig</td>\n",
       "      <td>actor</td>\n",
       "      <td>Rotelli</td>\n",
       "      <td>20.0</td>\n",
       "    </tr>\n",
       "    <tr>\n",
       "      <th>477447</th>\n",
       "      <td>Batman</td>\n",
       "      <td>1943</td>\n",
       "      <td>Douglas Croft</td>\n",
       "      <td>actor</td>\n",
       "      <td>Robin</td>\n",
       "      <td>2.0</td>\n",
       "    </tr>\n",
       "    <tr>\n",
       "      <th>477448</th>\n",
       "      <td>Batman</td>\n",
       "      <td>1943</td>\n",
       "      <td>Douglas Croft</td>\n",
       "      <td>actor</td>\n",
       "      <td>Dick Grayson</td>\n",
       "      <td>2.0</td>\n",
       "    </tr>\n",
       "    <tr>\n",
       "      <th>489980</th>\n",
       "      <td>Batman</td>\n",
       "      <td>1989</td>\n",
       "      <td>Clive Curtis</td>\n",
       "      <td>actor</td>\n",
       "      <td>Goon in Bell-Tower</td>\n",
       "      <td>NaN</td>\n",
       "    </tr>\n",
       "    <tr>\n",
       "      <th>490035</th>\n",
       "      <td>Batman</td>\n",
       "      <td>1943</td>\n",
       "      <td>Dick Curtis</td>\n",
       "      <td>actor</td>\n",
       "      <td>Agent Croft of Section 50 [Ch. 10-12])</td>\n",
       "      <td>NaN</td>\n",
       "    </tr>\n",
       "    <tr>\n",
       "      <th>492323</th>\n",
       "      <td>Batman</td>\n",
       "      <td>1989</td>\n",
       "      <td>Joel Cutrara</td>\n",
       "      <td>actor</td>\n",
       "      <td>Crimelord #2</td>\n",
       "      <td>22.0</td>\n",
       "    </tr>\n",
       "    <tr>\n",
       "      <th>499977</th>\n",
       "      <td>Batman</td>\n",
       "      <td>1989</td>\n",
       "      <td>John Dair</td>\n",
       "      <td>actor</td>\n",
       "      <td>Ricorso</td>\n",
       "      <td>23.0</td>\n",
       "    </tr>\n",
       "    <tr>\n",
       "      <th>575535</th>\n",
       "      <td>Batman</td>\n",
       "      <td>1943</td>\n",
       "      <td>James Dime</td>\n",
       "      <td>actor</td>\n",
       "      <td>Henchman</td>\n",
       "      <td>NaN</td>\n",
       "    </tr>\n",
       "    <tr>\n",
       "      <th>592716</th>\n",
       "      <td>Batman</td>\n",
       "      <td>1943</td>\n",
       "      <td>Lester Dorr</td>\n",
       "      <td>actor</td>\n",
       "      <td>Agent on Plane [Ch. 10</td>\n",
       "      <td>NaN</td>\n",
       "    </tr>\n",
       "    <tr>\n",
       "      <th>596448</th>\n",
       "      <td>Batman</td>\n",
       "      <td>1989</td>\n",
       "      <td>Sam Douglas</td>\n",
       "      <td>actor</td>\n",
       "      <td>Lawyer</td>\n",
       "      <td>52.0</td>\n",
       "    </tr>\n",
       "    <tr>\n",
       "      <th>612482</th>\n",
       "      <td>Batman</td>\n",
       "      <td>1943</td>\n",
       "      <td>Kenne Duncan</td>\n",
       "      <td>actor</td>\n",
       "      <td>Fred, the Mechanic [Ch. 5-6</td>\n",
       "      <td>NaN</td>\n",
       "    </tr>\n",
       "    <tr>\n",
       "      <th>618032</th>\n",
       "      <td>Batman</td>\n",
       "      <td>1989</td>\n",
       "      <td>Richard Durden</td>\n",
       "      <td>actor</td>\n",
       "      <td>TV Director</td>\n",
       "      <td>28.0</td>\n",
       "    </tr>\n",
       "    <tr>\n",
       "      <th>633157</th>\n",
       "      <td>Batman</td>\n",
       "      <td>1989</td>\n",
       "      <td>Keith Edwards</td>\n",
       "      <td>actor</td>\n",
       "      <td>Reporter</td>\n",
       "      <td>36.0</td>\n",
       "    </tr>\n",
       "    <tr>\n",
       "      <th>670819</th>\n",
       "      <td>Batman</td>\n",
       "      <td>1989</td>\n",
       "      <td>Christopher Fairbank</td>\n",
       "      <td>actor</td>\n",
       "      <td>Nic</td>\n",
       "      <td>24.0</td>\n",
       "    </tr>\n",
       "    <tr>\n",
       "      <th>706534</th>\n",
       "      <td>Batman</td>\n",
       "      <td>1943</td>\n",
       "      <td>Robert Fiske</td>\n",
       "      <td>actor</td>\n",
       "      <td>Foster [Ch. 1-4</td>\n",
       "      <td>NaN</td>\n",
       "    </tr>\n",
       "    <tr>\n",
       "      <th>713064</th>\n",
       "      <td>Batman</td>\n",
       "      <td>1943</td>\n",
       "      <td>Sam Flint</td>\n",
       "      <td>actor</td>\n",
       "      <td>Dr. G.H. Borden [Ch. 1</td>\n",
       "      <td>NaN</td>\n",
       "    </tr>\n",
       "    <tr>\n",
       "      <th>735294</th>\n",
       "      <td>Batman</td>\n",
       "      <td>1943</td>\n",
       "      <td>Jerry Frank</td>\n",
       "      <td>actor</td>\n",
       "      <td>Cave of Horrors Thug</td>\n",
       "      <td>NaN</td>\n",
       "    </tr>\n",
       "    <tr>\n",
       "      <th>746897</th>\n",
       "      <td>Batman</td>\n",
       "      <td>1943</td>\n",
       "      <td>Terry Frost</td>\n",
       "      <td>actor</td>\n",
       "      <td>Male Nurse [Ch. 7</td>\n",
       "      <td>NaN</td>\n",
       "    </tr>\n",
       "    <tr>\n",
       "      <th>772267</th>\n",
       "      <td>Batman</td>\n",
       "      <td>1943</td>\n",
       "      <td>Jack (II) Gardner</td>\n",
       "      <td>actor</td>\n",
       "      <td>Jim Bramwell</td>\n",
       "      <td>NaN</td>\n",
       "    </tr>\n",
       "    <tr>\n",
       "      <th>779455</th>\n",
       "      <td>Batman</td>\n",
       "      <td>1989</td>\n",
       "      <td>Clyde Gatell</td>\n",
       "      <td>actor</td>\n",
       "      <td>Other Mugger</td>\n",
       "      <td>50.0</td>\n",
       "    </tr>\n",
       "    <tr>\n",
       "      <th>808898</th>\n",
       "      <td>Batman</td>\n",
       "      <td>1943</td>\n",
       "      <td>Gus Glassmire</td>\n",
       "      <td>actor</td>\n",
       "      <td>Martin Warren</td>\n",
       "      <td>NaN</td>\n",
       "    </tr>\n",
       "    <tr>\n",
       "      <th>830209</th>\n",
       "      <td>Batman</td>\n",
       "      <td>1989</td>\n",
       "      <td>Pat Gorman</td>\n",
       "      <td>actor</td>\n",
       "      <td>Cop at Axis Chemicals</td>\n",
       "      <td>NaN</td>\n",
       "    </tr>\n",
       "    <tr>\n",
       "      <th>832826</th>\n",
       "      <td>Batman</td>\n",
       "      <td>1989</td>\n",
       "      <td>Michael Gough</td>\n",
       "      <td>actor</td>\n",
       "      <td>Alfred Pennyworth</td>\n",
       "      <td>7.0</td>\n",
       "    </tr>\n",
       "    <tr>\n",
       "      <th>880219</th>\n",
       "      <td>Batman</td>\n",
       "      <td>1943</td>\n",
       "      <td>Karl Hackett</td>\n",
       "      <td>actor</td>\n",
       "      <td>Wallace</td>\n",
       "      <td>NaN</td>\n",
       "    </tr>\n",
       "    <tr>\n",
       "      <th>883681</th>\n",
       "      <td>Batman</td>\n",
       "      <td>1989</td>\n",
       "      <td>Garrick Hagon</td>\n",
       "      <td>actor</td>\n",
       "      <td>Tourist Dad</td>\n",
       "      <td>46.0</td>\n",
       "    </tr>\n",
       "    <tr>\n",
       "      <th>949057</th>\n",
       "      <td>Batman</td>\n",
       "      <td>1989</td>\n",
       "      <td>Leon Herbert</td>\n",
       "      <td>actor</td>\n",
       "      <td>Reporter</td>\n",
       "      <td>37.0</td>\n",
       "    </tr>\n",
       "    <tr>\n",
       "      <th>966816</th>\n",
       "      <td>Batman</td>\n",
       "      <td>1989</td>\n",
       "      <td>Pat Hingle</td>\n",
       "      <td>actor</td>\n",
       "      <td>Commissioner James Gordon</td>\n",
       "      <td>5.0</td>\n",
       "    </tr>\n",
       "    <tr>\n",
       "      <th>973056</th>\n",
       "      <td>Batman</td>\n",
       "      <td>1943</td>\n",
       "      <td>Earle Hodgins</td>\n",
       "      <td>actor</td>\n",
       "      <td>Joe</td>\n",
       "      <td>NaN</td>\n",
       "    </tr>\n",
       "    <tr>\n",
       "      <th>987413</th>\n",
       "      <td>Batman</td>\n",
       "      <td>1989</td>\n",
       "      <td>William Hootkins</td>\n",
       "      <td>actor</td>\n",
       "      <td>Lt. Eckhardt</td>\n",
       "      <td>12.0</td>\n",
       "    </tr>\n",
       "    <tr>\n",
       "      <th>1007490</th>\n",
       "      <td>Batman</td>\n",
       "      <td>1943</td>\n",
       "      <td>Mauritz Hugo</td>\n",
       "      <td>actor</td>\n",
       "      <td>Doctor</td>\n",
       "      <td>NaN</td>\n",
       "    </tr>\n",
       "    <tr>\n",
       "      <th>1029154</th>\n",
       "      <td>Batman</td>\n",
       "      <td>1943</td>\n",
       "      <td>Jack Ingram</td>\n",
       "      <td>actor</td>\n",
       "      <td>Henchman Klein</td>\n",
       "      <td>NaN</td>\n",
       "    </tr>\n",
       "    <tr>\n",
       "      <th>1043887</th>\n",
       "      <td>Batman</td>\n",
       "      <td>1943</td>\n",
       "      <td>Warren Jackson</td>\n",
       "      <td>actor</td>\n",
       "      <td>Bernie</td>\n",
       "      <td>NaN</td>\n",
       "    </tr>\n",
       "  </tbody>\n",
       "</table>\n",
       "</div>"
      ],
      "text/plain": [
       "          title  year                  name   type  \\\n",
       "95672    Batman  1943          Frank Austin  actor   \n",
       "96186    Batman  1943        William Austin  actor   \n",
       "114034   Batman  1989             Del Baker  actor   \n",
       "119476   Batman  1989       Michael Balfour  actor   \n",
       "149767   Batman  1989            David Baxt  actor   \n",
       "199262   Batman  1989         Paul Birchard  actor   \n",
       "211518   Batman  1989            Hugo Blick  actor   \n",
       "258721   Batman  1943          Lynton Brent  actor   \n",
       "287420   Batman  1943             Roy Bucko  actor   \n",
       "379733   Batman  1989            Carl Chase  actor   \n",
       "387956   Batman  1943       George Chesebro  actor   \n",
       "449581   Batman  1989    George Lane Cooper  actor   \n",
       "468892   Batman  1989          Harold Coyne  actor   \n",
       "470065   Batman  1989           Edwin Craig  actor   \n",
       "477447   Batman  1943         Douglas Croft  actor   \n",
       "477448   Batman  1943         Douglas Croft  actor   \n",
       "489980   Batman  1989          Clive Curtis  actor   \n",
       "490035   Batman  1943           Dick Curtis  actor   \n",
       "492323   Batman  1989          Joel Cutrara  actor   \n",
       "499977   Batman  1989             John Dair  actor   \n",
       "575535   Batman  1943            James Dime  actor   \n",
       "592716   Batman  1943           Lester Dorr  actor   \n",
       "596448   Batman  1989           Sam Douglas  actor   \n",
       "612482   Batman  1943          Kenne Duncan  actor   \n",
       "618032   Batman  1989        Richard Durden  actor   \n",
       "633157   Batman  1989         Keith Edwards  actor   \n",
       "670819   Batman  1989  Christopher Fairbank  actor   \n",
       "706534   Batman  1943          Robert Fiske  actor   \n",
       "713064   Batman  1943             Sam Flint  actor   \n",
       "735294   Batman  1943           Jerry Frank  actor   \n",
       "746897   Batman  1943           Terry Frost  actor   \n",
       "772267   Batman  1943     Jack (II) Gardner  actor   \n",
       "779455   Batman  1989          Clyde Gatell  actor   \n",
       "808898   Batman  1943         Gus Glassmire  actor   \n",
       "830209   Batman  1989            Pat Gorman  actor   \n",
       "832826   Batman  1989         Michael Gough  actor   \n",
       "880219   Batman  1943          Karl Hackett  actor   \n",
       "883681   Batman  1989         Garrick Hagon  actor   \n",
       "949057   Batman  1989          Leon Herbert  actor   \n",
       "966816   Batman  1989            Pat Hingle  actor   \n",
       "973056   Batman  1943         Earle Hodgins  actor   \n",
       "987413   Batman  1989      William Hootkins  actor   \n",
       "1007490  Batman  1943          Mauritz Hugo  actor   \n",
       "1029154  Batman  1943           Jack Ingram  actor   \n",
       "1043887  Batman  1943        Warren Jackson  actor   \n",
       "\n",
       "                                      character     n  \n",
       "95672                               Hotel Clerk   NaN  \n",
       "96186                         Alfred Pennyworth   NaN  \n",
       "114034                              Napier Hood  31.0  \n",
       "119476                                Scientist  44.0  \n",
       "149767                         Dr. Thomas Wayne  48.0  \n",
       "199262                         Another Reporter  55.0  \n",
       "211518                        Young Jack Napier  41.0  \n",
       "258721                  Intended Lockwood Pilot   NaN  \n",
       "287420                                   Barfly   NaN  \n",
       "379733                                     Goon  14.0  \n",
       "387956                         Brennan [Ch. 1-3   NaN  \n",
       "449581                                     Goon  16.0  \n",
       "468892                   Gotham City Pedestrian   NaN  \n",
       "470065                                  Rotelli  20.0  \n",
       "477447                                    Robin   2.0  \n",
       "477448                             Dick Grayson   2.0  \n",
       "489980                       Goon in Bell-Tower   NaN  \n",
       "490035   Agent Croft of Section 50 [Ch. 10-12])   NaN  \n",
       "492323                             Crimelord #2  22.0  \n",
       "499977                                  Ricorso  23.0  \n",
       "575535                                 Henchman   NaN  \n",
       "592716                   Agent on Plane [Ch. 10   NaN  \n",
       "596448                                   Lawyer  52.0  \n",
       "612482              Fred, the Mechanic [Ch. 5-6   NaN  \n",
       "618032                              TV Director  28.0  \n",
       "633157                                 Reporter  36.0  \n",
       "670819                                      Nic  24.0  \n",
       "706534                          Foster [Ch. 1-4   NaN  \n",
       "713064                   Dr. G.H. Borden [Ch. 1   NaN  \n",
       "735294                     Cave of Horrors Thug   NaN  \n",
       "746897                        Male Nurse [Ch. 7   NaN  \n",
       "772267                             Jim Bramwell   NaN  \n",
       "779455                             Other Mugger  50.0  \n",
       "808898                            Martin Warren   NaN  \n",
       "830209                    Cop at Axis Chemicals   NaN  \n",
       "832826                        Alfred Pennyworth   7.0  \n",
       "880219                                  Wallace   NaN  \n",
       "883681                              Tourist Dad  46.0  \n",
       "949057                                 Reporter  37.0  \n",
       "966816                Commissioner James Gordon   5.0  \n",
       "973056                                      Joe   NaN  \n",
       "987413                             Lt. Eckhardt  12.0  \n",
       "1007490                                  Doctor   NaN  \n",
       "1029154                          Henchman Klein   NaN  \n",
       "1043887                                  Bernie   NaN  "
      ]
     },
     "execution_count": 176,
     "metadata": {},
     "output_type": "execute_result"
    }
   ],
   "source": [
    "titles[titles.title == \"Batman\"]"
   ]
  },
  {
   "cell_type": "markdown",
   "metadata": {
    "collapsed": true
   },
   "source": [
    "### How many roles were there in the movie \"Inception\"?"
   ]
  },
  {
   "cell_type": "code",
   "execution_count": 177,
   "metadata": {},
   "outputs": [
    {
     "data": {
      "text/plain": [
       "27"
      ]
     },
     "execution_count": 177,
     "metadata": {},
     "output_type": "execute_result"
    }
   ],
   "source": [
    "len(cast[cast.title == \"Inception\"])"
   ]
  },
  {
   "cell_type": "markdown",
   "metadata": {
    "collapsed": true
   },
   "source": [
    "### How many roles in the movie \"Inception\" are NOT ranked by an \"n\" value?"
   ]
  },
  {
   "cell_type": "code",
   "execution_count": 178,
   "metadata": {},
   "outputs": [
    {
     "data": {
      "text/plain": [
       "8"
      ]
     },
     "execution_count": 178,
     "metadata": {},
     "output_type": "execute_result"
    }
   ],
   "source": [
    "len(cast[(cast.title == \"Inception\") & (cast.n.isnull())])"
   ]
  },
  {
   "cell_type": "markdown",
   "metadata": {
    "collapsed": true
   },
   "source": [
    "### But how many roles in the movie \"Inception\" did receive an \"n\" value?"
   ]
  },
  {
   "cell_type": "code",
   "execution_count": 179,
   "metadata": {},
   "outputs": [
    {
     "data": {
      "text/plain": [
       "19"
      ]
     },
     "execution_count": 179,
     "metadata": {},
     "output_type": "execute_result"
    }
   ],
   "source": [
    "len(cast[(cast.title == \"Inception\") & (cast.n.notnull())])"
   ]
  },
  {
   "cell_type": "markdown",
   "metadata": {
    "collapsed": true
   },
   "source": [
    "### Display the cast of \"North by Northwest\" in their correct \"n\"-value order, ignoring roles that did not earn a numeric \"n\" value."
   ]
  },
  {
   "cell_type": "code",
   "execution_count": 180,
   "metadata": {},
   "outputs": [
    {
     "data": {
      "text/html": [
       "<div>\n",
       "<style scoped>\n",
       "    .dataframe tbody tr th:only-of-type {\n",
       "        vertical-align: middle;\n",
       "    }\n",
       "\n",
       "    .dataframe tbody tr th {\n",
       "        vertical-align: top;\n",
       "    }\n",
       "\n",
       "    .dataframe thead th {\n",
       "        text-align: right;\n",
       "    }\n",
       "</style>\n",
       "<table border=\"1\" class=\"dataframe\">\n",
       "  <thead>\n",
       "    <tr style=\"text-align: right;\">\n",
       "      <th></th>\n",
       "      <th>title</th>\n",
       "      <th>year</th>\n",
       "      <th>name</th>\n",
       "      <th>type</th>\n",
       "      <th>character</th>\n",
       "      <th>n</th>\n",
       "    </tr>\n",
       "  </thead>\n",
       "  <tbody>\n",
       "    <tr>\n",
       "      <th>840374</th>\n",
       "      <td>North by Northwest</td>\n",
       "      <td>1959</td>\n",
       "      <td>Cary Grant</td>\n",
       "      <td>actor</td>\n",
       "      <td>Roger O. Thornhill</td>\n",
       "      <td>1.0</td>\n",
       "    </tr>\n",
       "    <tr>\n",
       "      <th>343701</th>\n",
       "      <td>North by Northwest</td>\n",
       "      <td>1959</td>\n",
       "      <td>Leo G. Carroll</td>\n",
       "      <td>actor</td>\n",
       "      <td>The Professor</td>\n",
       "      <td>5.0</td>\n",
       "    </tr>\n",
       "    <tr>\n",
       "      <th>642085</th>\n",
       "      <td>North by Northwest</td>\n",
       "      <td>1959</td>\n",
       "      <td>Robert Ellenstein</td>\n",
       "      <td>actor</td>\n",
       "      <td>Licht</td>\n",
       "      <td>11.0</td>\n",
       "    </tr>\n",
       "    <tr>\n",
       "      <th>447893</th>\n",
       "      <td>North by Northwest</td>\n",
       "      <td>1959</td>\n",
       "      <td>Philip Coolidge</td>\n",
       "      <td>actor</td>\n",
       "      <td>Dr. Cross</td>\n",
       "      <td>13.0</td>\n",
       "    </tr>\n",
       "    <tr>\n",
       "      <th>198496</th>\n",
       "      <td>North by Northwest</td>\n",
       "      <td>1959</td>\n",
       "      <td>Edward Binns</td>\n",
       "      <td>actor</td>\n",
       "      <td>Captain Junket</td>\n",
       "      <td>15.0</td>\n",
       "    </tr>\n",
       "  </tbody>\n",
       "</table>\n",
       "</div>"
      ],
      "text/plain": [
       "                     title  year               name   type  \\\n",
       "840374  North by Northwest  1959         Cary Grant  actor   \n",
       "343701  North by Northwest  1959     Leo G. Carroll  actor   \n",
       "642085  North by Northwest  1959  Robert Ellenstein  actor   \n",
       "447893  North by Northwest  1959    Philip Coolidge  actor   \n",
       "198496  North by Northwest  1959       Edward Binns  actor   \n",
       "\n",
       "                 character     n  \n",
       "840374  Roger O. Thornhill   1.0  \n",
       "343701       The Professor   5.0  \n",
       "642085               Licht  11.0  \n",
       "447893           Dr. Cross  13.0  \n",
       "198496      Captain Junket  15.0  "
      ]
     },
     "execution_count": 180,
     "metadata": {},
     "output_type": "execute_result"
    }
   ],
   "source": [
    "cast[(cast.title == \"North by Northwest\") & (cast.n.notnull())].sort_values(by='n')"
   ]
  },
  {
   "cell_type": "markdown",
   "metadata": {
    "collapsed": true
   },
   "source": [
    "### Display the entire cast, in \"n\"-order, of the 1972 film \"Sleuth\"."
   ]
  },
  {
   "cell_type": "code",
   "execution_count": 181,
   "metadata": {},
   "outputs": [
    {
     "data": {
      "text/html": [
       "<div>\n",
       "<style scoped>\n",
       "    .dataframe tbody tr th:only-of-type {\n",
       "        vertical-align: middle;\n",
       "    }\n",
       "\n",
       "    .dataframe tbody tr th {\n",
       "        vertical-align: top;\n",
       "    }\n",
       "\n",
       "    .dataframe thead th {\n",
       "        text-align: right;\n",
       "    }\n",
       "</style>\n",
       "<table border=\"1\" class=\"dataframe\">\n",
       "  <thead>\n",
       "    <tr style=\"text-align: right;\">\n",
       "      <th></th>\n",
       "      <th>title</th>\n",
       "      <th>year</th>\n",
       "      <th>name</th>\n",
       "      <th>type</th>\n",
       "      <th>character</th>\n",
       "      <th>n</th>\n",
       "    </tr>\n",
       "  </thead>\n",
       "  <tbody>\n",
       "    <tr>\n",
       "      <th>314691</th>\n",
       "      <td>Sleuth</td>\n",
       "      <td>1972</td>\n",
       "      <td>Michael Caine</td>\n",
       "      <td>actor</td>\n",
       "      <td>Milo Tindle</td>\n",
       "      <td>2.0</td>\n",
       "    </tr>\n",
       "    <tr>\n",
       "      <th>360365</th>\n",
       "      <td>Sleuth</td>\n",
       "      <td>1972</td>\n",
       "      <td>Alec Cawthorne</td>\n",
       "      <td>actor</td>\n",
       "      <td>Inspector Doppler</td>\n",
       "      <td>3.0</td>\n",
       "    </tr>\n",
       "  </tbody>\n",
       "</table>\n",
       "</div>"
      ],
      "text/plain": [
       "         title  year            name   type          character    n\n",
       "314691  Sleuth  1972   Michael Caine  actor        Milo Tindle  2.0\n",
       "360365  Sleuth  1972  Alec Cawthorne  actor  Inspector Doppler  3.0"
      ]
     },
     "execution_count": 181,
     "metadata": {},
     "output_type": "execute_result"
    }
   ],
   "source": [
    "cast[(cast.title == \"Sleuth\") & (cast.year == 1972) & (cast.n.notnull())].sort_values(by='n')"
   ]
  },
  {
   "cell_type": "markdown",
   "metadata": {
    "collapsed": true
   },
   "source": [
    "### Now display the entire cast, in \"n\"-order, of the 2007 version of \"Sleuth\"."
   ]
  },
  {
   "cell_type": "code",
   "execution_count": 182,
   "metadata": {},
   "outputs": [
    {
     "data": {
      "text/html": [
       "<div>\n",
       "<style scoped>\n",
       "    .dataframe tbody tr th:only-of-type {\n",
       "        vertical-align: middle;\n",
       "    }\n",
       "\n",
       "    .dataframe tbody tr th {\n",
       "        vertical-align: top;\n",
       "    }\n",
       "\n",
       "    .dataframe thead th {\n",
       "        text-align: right;\n",
       "    }\n",
       "</style>\n",
       "<table border=\"1\" class=\"dataframe\">\n",
       "  <thead>\n",
       "    <tr style=\"text-align: right;\">\n",
       "      <th></th>\n",
       "      <th>title</th>\n",
       "      <th>year</th>\n",
       "      <th>name</th>\n",
       "      <th>type</th>\n",
       "      <th>character</th>\n",
       "      <th>n</th>\n",
       "    </tr>\n",
       "  </thead>\n",
       "  <tbody>\n",
       "    <tr>\n",
       "      <th>314692</th>\n",
       "      <td>Sleuth</td>\n",
       "      <td>2007</td>\n",
       "      <td>Michael Caine</td>\n",
       "      <td>actor</td>\n",
       "      <td>Andrew</td>\n",
       "      <td>1.0</td>\n",
       "    </tr>\n",
       "  </tbody>\n",
       "</table>\n",
       "</div>"
      ],
      "text/plain": [
       "         title  year           name   type character    n\n",
       "314692  Sleuth  2007  Michael Caine  actor    Andrew  1.0"
      ]
     },
     "execution_count": 182,
     "metadata": {},
     "output_type": "execute_result"
    }
   ],
   "source": [
    "cast[(cast.title == \"Sleuth\") & (cast.year == 2007) & (cast.n.notnull())].sort_values(by='n')"
   ]
  },
  {
   "cell_type": "markdown",
   "metadata": {
    "collapsed": true
   },
   "source": [
    "### How many roles were credited in the silent 1921 version of Hamlet?"
   ]
  },
  {
   "cell_type": "code",
   "execution_count": 184,
   "metadata": {},
   "outputs": [
    {
     "data": {
      "text/plain": [
       "3"
      ]
     },
     "execution_count": 184,
     "metadata": {},
     "output_type": "execute_result"
    }
   ],
   "source": [
    "len(cast[(cast.title == \"Hamlet\") & (cast.year == 1921)])"
   ]
  },
  {
   "cell_type": "markdown",
   "metadata": {
    "collapsed": true
   },
   "source": [
    "### How many roles were credited in Branagh’s 1996 Hamlet?"
   ]
  },
  {
   "cell_type": "code",
   "execution_count": 185,
   "metadata": {},
   "outputs": [
    {
     "data": {
      "text/plain": [
       "24"
      ]
     },
     "execution_count": 185,
     "metadata": {},
     "output_type": "execute_result"
    }
   ],
   "source": [
    "len(cast[(cast.title == \"Hamlet\") & (cast.year == 1996)])"
   ]
  },
  {
   "cell_type": "markdown",
   "metadata": {
    "collapsed": true
   },
   "source": [
    "### How many \"Hamlet\" roles have been listed in all film credits through history?"
   ]
  },
  {
   "cell_type": "code",
   "execution_count": 186,
   "metadata": {},
   "outputs": [
    {
     "data": {
      "text/plain": [
       "38"
      ]
     },
     "execution_count": 186,
     "metadata": {},
     "output_type": "execute_result"
    }
   ],
   "source": [
    "len(cast[cast.character == \"Hamlet\"])"
   ]
  },
  {
   "cell_type": "markdown",
   "metadata": {
    "collapsed": true
   },
   "source": [
    "### How many people have played an \"Ophelia\"?"
   ]
  },
  {
   "cell_type": "code",
   "execution_count": 187,
   "metadata": {},
   "outputs": [
    {
     "data": {
      "text/plain": [
       "4"
      ]
     },
     "execution_count": 187,
     "metadata": {},
     "output_type": "execute_result"
    }
   ],
   "source": [
    "len(cast[cast.character == \"Ophelia\"])"
   ]
  },
  {
   "cell_type": "markdown",
   "metadata": {
    "collapsed": true
   },
   "source": [
    "### How many people have played a role called \"The Dude\"?"
   ]
  },
  {
   "cell_type": "code",
   "execution_count": 188,
   "metadata": {},
   "outputs": [
    {
     "data": {
      "text/plain": [
       "6"
      ]
     },
     "execution_count": 188,
     "metadata": {},
     "output_type": "execute_result"
    }
   ],
   "source": [
    "len(cast[cast.character == \"The Dude\"])"
   ]
  },
  {
   "cell_type": "markdown",
   "metadata": {
    "collapsed": true
   },
   "source": [
    "### How many people have played a role called \"The Stranger\"?"
   ]
  },
  {
   "cell_type": "code",
   "execution_count": 189,
   "metadata": {},
   "outputs": [
    {
     "data": {
      "text/plain": [
       "84"
      ]
     },
     "execution_count": 189,
     "metadata": {},
     "output_type": "execute_result"
    }
   ],
   "source": [
    "len(cast[cast.character == \"The Stranger\"])"
   ]
  },
  {
   "cell_type": "markdown",
   "metadata": {
    "collapsed": true
   },
   "source": [
    "### How many roles has Sidney Poitier played throughout his career?"
   ]
  },
  {
   "cell_type": "code",
   "execution_count": 190,
   "metadata": {},
   "outputs": [
    {
     "data": {
      "text/plain": [
       "1"
      ]
     },
     "execution_count": 190,
     "metadata": {},
     "output_type": "execute_result"
    }
   ],
   "source": [
    "len(cast[cast.character == \"Sidney Poitier\"])"
   ]
  },
  {
   "cell_type": "markdown",
   "metadata": {
    "collapsed": true
   },
   "source": [
    "### How many roles has Judi Dench played?"
   ]
  },
  {
   "cell_type": "code",
   "execution_count": 191,
   "metadata": {},
   "outputs": [
    {
     "data": {
      "text/plain": [
       "0"
      ]
     },
     "execution_count": 191,
     "metadata": {},
     "output_type": "execute_result"
    }
   ],
   "source": [
    "len(cast[cast.character == \"Judi Dench\"])"
   ]
  },
  {
   "cell_type": "markdown",
   "metadata": {
    "collapsed": true
   },
   "source": [
    "### List the supporting roles (having n=2) played by Cary Grant in the 1940s, in order by year."
   ]
  },
  {
   "cell_type": "code",
   "execution_count": 195,
   "metadata": {},
   "outputs": [
    {
     "data": {
      "text/html": [
       "<div>\n",
       "<style scoped>\n",
       "    .dataframe tbody tr th:only-of-type {\n",
       "        vertical-align: middle;\n",
       "    }\n",
       "\n",
       "    .dataframe tbody tr th {\n",
       "        vertical-align: top;\n",
       "    }\n",
       "\n",
       "    .dataframe thead th {\n",
       "        text-align: right;\n",
       "    }\n",
       "</style>\n",
       "<table border=\"1\" class=\"dataframe\">\n",
       "  <thead>\n",
       "    <tr style=\"text-align: right;\">\n",
       "      <th></th>\n",
       "      <th>title</th>\n",
       "      <th>year</th>\n",
       "      <th>name</th>\n",
       "      <th>type</th>\n",
       "      <th>character</th>\n",
       "      <th>n</th>\n",
       "    </tr>\n",
       "  </thead>\n",
       "  <tbody>\n",
       "    <tr>\n",
       "      <th>840371</th>\n",
       "      <td>My Favorite Wife</td>\n",
       "      <td>1940</td>\n",
       "      <td>Cary Grant</td>\n",
       "      <td>actor</td>\n",
       "      <td>Nick</td>\n",
       "      <td>2.0</td>\n",
       "    </tr>\n",
       "    <tr>\n",
       "      <th>840381</th>\n",
       "      <td>Penny Serenade</td>\n",
       "      <td>1941</td>\n",
       "      <td>Cary Grant</td>\n",
       "      <td>actor</td>\n",
       "      <td>Roger Adams</td>\n",
       "      <td>2.0</td>\n",
       "    </tr>\n",
       "  </tbody>\n",
       "</table>\n",
       "</div>"
      ],
      "text/plain": [
       "                   title  year        name   type    character    n\n",
       "840371  My Favorite Wife  1940  Cary Grant  actor         Nick  2.0\n",
       "840381    Penny Serenade  1941  Cary Grant  actor  Roger Adams  2.0"
      ]
     },
     "execution_count": 195,
     "metadata": {},
     "output_type": "execute_result"
    }
   ],
   "source": [
    "cast[\n",
    "    (cast.name == 'Cary Grant') & \n",
    "    (cast.year // 10 == 194) &\n",
    "    (cast.n == 2)\n",
    "].sort_values(by='year')"
   ]
  },
  {
   "cell_type": "markdown",
   "metadata": {
    "collapsed": true
   },
   "source": [
    "### List the leading roles that Cary Grant played in the 1940s in order by year."
   ]
  },
  {
   "cell_type": "code",
   "execution_count": 197,
   "metadata": {},
   "outputs": [
    {
     "data": {
      "text/html": [
       "<div>\n",
       "<style scoped>\n",
       "    .dataframe tbody tr th:only-of-type {\n",
       "        vertical-align: middle;\n",
       "    }\n",
       "\n",
       "    .dataframe tbody tr th {\n",
       "        vertical-align: top;\n",
       "    }\n",
       "\n",
       "    .dataframe thead th {\n",
       "        text-align: right;\n",
       "    }\n",
       "</style>\n",
       "<table border=\"1\" class=\"dataframe\">\n",
       "  <thead>\n",
       "    <tr style=\"text-align: right;\">\n",
       "      <th></th>\n",
       "      <th>title</th>\n",
       "      <th>year</th>\n",
       "      <th>name</th>\n",
       "      <th>type</th>\n",
       "      <th>character</th>\n",
       "      <th>n</th>\n",
       "    </tr>\n",
       "  </thead>\n",
       "  <tbody>\n",
       "    <tr>\n",
       "      <th>840397</th>\n",
       "      <td>The Howards of Virginia</td>\n",
       "      <td>1940</td>\n",
       "      <td>Cary Grant</td>\n",
       "      <td>actor</td>\n",
       "      <td>Matt Howard</td>\n",
       "      <td>1.0</td>\n",
       "    </tr>\n",
       "    <tr>\n",
       "      <th>840353</th>\n",
       "      <td>His Girl Friday</td>\n",
       "      <td>1940</td>\n",
       "      <td>Cary Grant</td>\n",
       "      <td>actor</td>\n",
       "      <td>Walter Burns</td>\n",
       "      <td>1.0</td>\n",
       "    </tr>\n",
       "    <tr>\n",
       "      <th>840399</th>\n",
       "      <td>The Philadelphia Story</td>\n",
       "      <td>1940</td>\n",
       "      <td>Cary Grant</td>\n",
       "      <td>actor</td>\n",
       "      <td>C. K. Dexter Haven</td>\n",
       "      <td>1.0</td>\n",
       "    </tr>\n",
       "    <tr>\n",
       "      <th>840386</th>\n",
       "      <td>Suspicion</td>\n",
       "      <td>1941</td>\n",
       "      <td>Cary Grant</td>\n",
       "      <td>actor</td>\n",
       "      <td>Johnnie</td>\n",
       "      <td>1.0</td>\n",
       "    </tr>\n",
       "    <tr>\n",
       "      <th>840401</th>\n",
       "      <td>The Talk of the Town</td>\n",
       "      <td>1942</td>\n",
       "      <td>Cary Grant</td>\n",
       "      <td>actor</td>\n",
       "      <td>Leopold Dilg</td>\n",
       "      <td>1.0</td>\n",
       "    </tr>\n",
       "    <tr>\n",
       "      <th>840377</th>\n",
       "      <td>Once Upon a Honeymoon</td>\n",
       "      <td>1942</td>\n",
       "      <td>Cary Grant</td>\n",
       "      <td>actor</td>\n",
       "      <td>Patrick 'Pat' O'Toole</td>\n",
       "      <td>1.0</td>\n",
       "    </tr>\n",
       "    <tr>\n",
       "      <th>840344</th>\n",
       "      <td>Destination Tokyo</td>\n",
       "      <td>1943</td>\n",
       "      <td>Cary Grant</td>\n",
       "      <td>actor</td>\n",
       "      <td>Capt. Cassidy</td>\n",
       "      <td>1.0</td>\n",
       "    </tr>\n",
       "    <tr>\n",
       "      <th>840369</th>\n",
       "      <td>Mr. Lucky</td>\n",
       "      <td>1943</td>\n",
       "      <td>Cary Grant</td>\n",
       "      <td>actor</td>\n",
       "      <td>Joe Adams</td>\n",
       "      <td>1.0</td>\n",
       "    </tr>\n",
       "    <tr>\n",
       "      <th>840370</th>\n",
       "      <td>Mr. Lucky</td>\n",
       "      <td>1943</td>\n",
       "      <td>Cary Grant</td>\n",
       "      <td>actor</td>\n",
       "      <td>Joe Bascopolous</td>\n",
       "      <td>1.0</td>\n",
       "    </tr>\n",
       "    <tr>\n",
       "      <th>840378</th>\n",
       "      <td>Once Upon a Time</td>\n",
       "      <td>1944</td>\n",
       "      <td>Cary Grant</td>\n",
       "      <td>actor</td>\n",
       "      <td>Jerry Flynn</td>\n",
       "      <td>1.0</td>\n",
       "    </tr>\n",
       "    <tr>\n",
       "      <th>840336</th>\n",
       "      <td>Arsenic and Old Lace</td>\n",
       "      <td>1944</td>\n",
       "      <td>Cary Grant</td>\n",
       "      <td>actor</td>\n",
       "      <td>Mortimer Brewster</td>\n",
       "      <td>1.0</td>\n",
       "    </tr>\n",
       "    <tr>\n",
       "      <th>840373</th>\n",
       "      <td>None But the Lonely Heart</td>\n",
       "      <td>1944</td>\n",
       "      <td>Cary Grant</td>\n",
       "      <td>actor</td>\n",
       "      <td>Ernie Mott</td>\n",
       "      <td>1.0</td>\n",
       "    </tr>\n",
       "    <tr>\n",
       "      <th>840372</th>\n",
       "      <td>Night and Day</td>\n",
       "      <td>1946</td>\n",
       "      <td>Cary Grant</td>\n",
       "      <td>actor</td>\n",
       "      <td>Cole Porter</td>\n",
       "      <td>1.0</td>\n",
       "    </tr>\n",
       "    <tr>\n",
       "      <th>840375</th>\n",
       "      <td>Notorious</td>\n",
       "      <td>1946</td>\n",
       "      <td>Cary Grant</td>\n",
       "      <td>actor</td>\n",
       "      <td>Devlin</td>\n",
       "      <td>1.0</td>\n",
       "    </tr>\n",
       "    <tr>\n",
       "      <th>840393</th>\n",
       "      <td>The Bachelor and the Bobby-Soxer</td>\n",
       "      <td>1947</td>\n",
       "      <td>Cary Grant</td>\n",
       "      <td>actor</td>\n",
       "      <td>Dick Nugent</td>\n",
       "      <td>1.0</td>\n",
       "    </tr>\n",
       "    <tr>\n",
       "      <th>840394</th>\n",
       "      <td>The Bishop's Wife</td>\n",
       "      <td>1947</td>\n",
       "      <td>Cary Grant</td>\n",
       "      <td>actor</td>\n",
       "      <td>Dudley</td>\n",
       "      <td>1.0</td>\n",
       "    </tr>\n",
       "    <tr>\n",
       "      <th>840368</th>\n",
       "      <td>Mr. Blandings Builds His Dream House</td>\n",
       "      <td>1948</td>\n",
       "      <td>Cary Grant</td>\n",
       "      <td>actor</td>\n",
       "      <td>Jim Blandings</td>\n",
       "      <td>1.0</td>\n",
       "    </tr>\n",
       "    <tr>\n",
       "      <th>840348</th>\n",
       "      <td>Every Girl Should Be Married</td>\n",
       "      <td>1948</td>\n",
       "      <td>Cary Grant</td>\n",
       "      <td>actor</td>\n",
       "      <td>Dr. Madison Brown</td>\n",
       "      <td>1.0</td>\n",
       "    </tr>\n",
       "    <tr>\n",
       "      <th>840357</th>\n",
       "      <td>I Was a Male War Bride</td>\n",
       "      <td>1949</td>\n",
       "      <td>Cary Grant</td>\n",
       "      <td>actor</td>\n",
       "      <td>Captain Henri Rochard</td>\n",
       "      <td>1.0</td>\n",
       "    </tr>\n",
       "  </tbody>\n",
       "</table>\n",
       "</div>"
      ],
      "text/plain": [
       "                                       title  year        name   type  \\\n",
       "840397               The Howards of Virginia  1940  Cary Grant  actor   \n",
       "840353                       His Girl Friday  1940  Cary Grant  actor   \n",
       "840399                The Philadelphia Story  1940  Cary Grant  actor   \n",
       "840386                             Suspicion  1941  Cary Grant  actor   \n",
       "840401                  The Talk of the Town  1942  Cary Grant  actor   \n",
       "840377                 Once Upon a Honeymoon  1942  Cary Grant  actor   \n",
       "840344                     Destination Tokyo  1943  Cary Grant  actor   \n",
       "840369                             Mr. Lucky  1943  Cary Grant  actor   \n",
       "840370                             Mr. Lucky  1943  Cary Grant  actor   \n",
       "840378                      Once Upon a Time  1944  Cary Grant  actor   \n",
       "840336                  Arsenic and Old Lace  1944  Cary Grant  actor   \n",
       "840373             None But the Lonely Heart  1944  Cary Grant  actor   \n",
       "840372                         Night and Day  1946  Cary Grant  actor   \n",
       "840375                             Notorious  1946  Cary Grant  actor   \n",
       "840393      The Bachelor and the Bobby-Soxer  1947  Cary Grant  actor   \n",
       "840394                     The Bishop's Wife  1947  Cary Grant  actor   \n",
       "840368  Mr. Blandings Builds His Dream House  1948  Cary Grant  actor   \n",
       "840348          Every Girl Should Be Married  1948  Cary Grant  actor   \n",
       "840357                I Was a Male War Bride  1949  Cary Grant  actor   \n",
       "\n",
       "                    character    n  \n",
       "840397            Matt Howard  1.0  \n",
       "840353           Walter Burns  1.0  \n",
       "840399     C. K. Dexter Haven  1.0  \n",
       "840386                Johnnie  1.0  \n",
       "840401           Leopold Dilg  1.0  \n",
       "840377  Patrick 'Pat' O'Toole  1.0  \n",
       "840344          Capt. Cassidy  1.0  \n",
       "840369              Joe Adams  1.0  \n",
       "840370        Joe Bascopolous  1.0  \n",
       "840378            Jerry Flynn  1.0  \n",
       "840336      Mortimer Brewster  1.0  \n",
       "840373             Ernie Mott  1.0  \n",
       "840372            Cole Porter  1.0  \n",
       "840375                 Devlin  1.0  \n",
       "840393            Dick Nugent  1.0  \n",
       "840394                 Dudley  1.0  \n",
       "840368          Jim Blandings  1.0  \n",
       "840348      Dr. Madison Brown  1.0  \n",
       "840357  Captain Henri Rochard  1.0  "
      ]
     },
     "execution_count": 197,
     "metadata": {},
     "output_type": "execute_result"
    }
   ],
   "source": [
    "cast[\n",
    "    (cast.name == 'Cary Grant') & \n",
    "    (cast.year // 10 == 194) &\n",
    "    (cast.n == 1)\n",
    "].sort_values(by='year')"
   ]
  },
  {
   "cell_type": "markdown",
   "metadata": {
    "collapsed": true
   },
   "source": [
    "### How many roles were available for actors in the 1950s?"
   ]
  },
  {
   "cell_type": "code",
   "execution_count": 202,
   "metadata": {},
   "outputs": [
    {
     "data": {
      "text/plain": [
       "67706"
      ]
     },
     "execution_count": 202,
     "metadata": {},
     "output_type": "execute_result"
    }
   ],
   "source": [
    "len(cast[\n",
    "    (cast.year // 10 == 195) &\n",
    "    (cast.type == \"actor\")\n",
    "])"
   ]
  },
  {
   "cell_type": "markdown",
   "metadata": {
    "collapsed": true
   },
   "source": [
    "### How many roles were available for actresses in the 1950s?"
   ]
  },
  {
   "cell_type": "code",
   "execution_count": 203,
   "metadata": {},
   "outputs": [
    {
     "data": {
      "text/plain": [
       "0"
      ]
     },
     "execution_count": 203,
     "metadata": {},
     "output_type": "execute_result"
    }
   ],
   "source": [
    "len(cast[\n",
    "    (cast.year // 10 == 195) &\n",
    "    (cast.type == \"actress\")\n",
    "])"
   ]
  },
  {
   "cell_type": "markdown",
   "metadata": {
    "collapsed": true
   },
   "source": [
    "### How many leading roles (n=1) were available from the beginning of film history through 1980?"
   ]
  },
  {
   "cell_type": "code",
   "execution_count": 204,
   "metadata": {},
   "outputs": [
    {
     "data": {
      "text/plain": [
       "18968"
      ]
     },
     "execution_count": 204,
     "metadata": {},
     "output_type": "execute_result"
    }
   ],
   "source": [
    "len(cast[\n",
    "    (cast.year <= 1980) &\n",
    "    (cast.n == 1)\n",
    "])"
   ]
  },
  {
   "cell_type": "markdown",
   "metadata": {
    "collapsed": true
   },
   "source": [
    "### How many non-leading roles were available through from the beginning of film history through 1980?"
   ]
  },
  {
   "cell_type": "code",
   "execution_count": 205,
   "metadata": {},
   "outputs": [
    {
     "data": {
      "text/plain": [
       "351862"
      ]
     },
     "execution_count": 205,
     "metadata": {},
     "output_type": "execute_result"
    }
   ],
   "source": [
    "len(cast[\n",
    "    (cast.year <= 1980) &\n",
    "    (cast.n != 1)\n",
    "])"
   ]
  },
  {
   "cell_type": "markdown",
   "metadata": {
    "collapsed": true
   },
   "source": [
    "### How many roles through 1980 were minor enough that they did not warrant a numeric \"n\" rank?"
   ]
  },
  {
   "cell_type": "code",
   "execution_count": 206,
   "metadata": {},
   "outputs": [
    {
     "data": {
      "text/plain": [
       "149991"
      ]
     },
     "execution_count": 206,
     "metadata": {},
     "output_type": "execute_result"
    }
   ],
   "source": [
    "len(cast[\n",
    "    (cast.year <= 1980) &\n",
    "    (cast.n.isnull())\n",
    "])"
   ]
  },
  {
   "cell_type": "code",
   "execution_count": null,
   "metadata": {},
   "outputs": [],
   "source": []
  }
 ],
 "metadata": {
  "kernelspec": {
   "display_name": "Python 3 (ipykernel)",
   "language": "python",
   "name": "python3"
  },
  "language_info": {
   "codemirror_mode": {
    "name": "ipython",
    "version": 3
   },
   "file_extension": ".py",
   "mimetype": "text/x-python",
   "name": "python",
   "nbconvert_exporter": "python",
   "pygments_lexer": "ipython3",
   "version": "3.11.4"
  }
 },
 "nbformat": 4,
 "nbformat_minor": 1
}
